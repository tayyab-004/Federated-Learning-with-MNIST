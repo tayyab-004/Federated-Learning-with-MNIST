{
  "nbformat": 4,
  "nbformat_minor": 0,
  "metadata": {
    "colab": {
      "provenance": [],
      "gpuType": "T4"
    },
    "kernelspec": {
      "name": "python3",
      "display_name": "Python 3"
    },
    "language_info": {
      "name": "python"
    },
    "accelerator": "GPU"
  },
  "cells": [
    {
      "cell_type": "markdown",
      "source": [
        "Imports the libraries"
      ],
      "metadata": {
        "id": "5sDlTKfTV-y-"
      }
    },
    {
      "cell_type": "code",
      "source": [
        "import numpy as np\n",
        "from tensorflow import keras\n",
        "from keras import layers, models, utils\n",
        "from sklearn.model_selection import train_test_split"
      ],
      "metadata": {
        "id": "t8fTvfkyWDvR"
      },
      "execution_count": null,
      "outputs": []
    },
    {
      "cell_type": "markdown",
      "source": [
        "Load dataset"
      ],
      "metadata": {
        "id": "ZqC6oD4XWKv6"
      }
    },
    {
      "cell_type": "code",
      "source": [
        "# Model / data parameters\n",
        "num_classes = 10\n",
        "input_shape = (28, 28, 1)\n",
        "\n",
        "# Load the data and split it between train and test sets\n",
        "(x_train, y_train), (x_test, y_test) = keras.datasets.mnist.load_data()\n",
        "\n",
        "# Scale images to the [0, 1] range and reshape for input shape\n",
        "x_train = x_train.reshape((-1, 28, 28, 1)).astype(\"float32\") / 255.0\n",
        "x_test = x_test.reshape((-1, 28, 28, 1)).astype(\"float32\") / 255.0\n",
        "\n",
        "# Print training shape & samples\n",
        "print(\"X_train shape: \", x_train.shape)\n",
        "print(x_train.shape[0], \"train samples\")\n",
        "print(x_test.shape[0], \"test samples\")\n",
        "\n",
        "# convert class vectors to binary class matrices\n",
        "y_train = keras.utils.to_categorical(y_train, num_classes)\n",
        "y_test = keras.utils.to_categorical(y_test, num_classes)\n"
      ],
      "metadata": {
        "colab": {
          "base_uri": "https://localhost:8080/"
        },
        "id": "f8-orZ1ZWP5I",
        "outputId": "784111f5-aa22-4b1d-b8e3-73321cf8e3e0"
      },
      "execution_count": null,
      "outputs": [
        {
          "output_type": "stream",
          "name": "stdout",
          "text": [
            "Downloading data from https://storage.googleapis.com/tensorflow/tf-keras-datasets/mnist.npz\n",
            "11490434/11490434 [==============================] - 0s 0us/step\n",
            "X_train shape:  (60000, 28, 28, 1)\n",
            "60000 train samples\n",
            "10000 test samples\n"
          ]
        }
      ]
    },
    {
      "cell_type": "markdown",
      "source": [
        "Display an image from the training dataset"
      ],
      "metadata": {
        "id": "zq1qtewY4e3h"
      }
    },
    {
      "cell_type": "code",
      "source": [
        "import matplotlib.pyplot as plt\n",
        "plt.imshow(x_train[50145])"
      ],
      "metadata": {
        "colab": {
          "base_uri": "https://localhost:8080/",
          "height": 447
        },
        "id": "uBcg0OCL3aCM",
        "outputId": "6588b312-3320-47b3-b16f-764ee13a027e"
      },
      "execution_count": null,
      "outputs": [
        {
          "output_type": "execute_result",
          "data": {
            "text/plain": [
              "<matplotlib.image.AxesImage at 0x7bf7fedbe590>"
            ]
          },
          "metadata": {},
          "execution_count": 3
        },
        {
          "output_type": "display_data",
          "data": {
            "text/plain": [
              "<Figure size 640x480 with 1 Axes>"
            ],
            "image/png": "[encoded data removed]"
          },
          "metadata": {}
        }
      ]
    },
    {
      "cell_type": "markdown",
      "source": [
        "Splitting training data for multiple clients"
      ],
      "metadata": {
        "id": "Cp-T-W23WetR"
      }
    },
    {
      "cell_type": "code",
      "source": [
        "x_train_splits = np.array_split(x_train, 4)\n",
        "y_train_splits = np.array_split(y_train, 4)"
      ],
      "metadata": {
        "id": "d66aXoUoWgPy"
      },
      "execution_count": null,
      "outputs": []
    },
    {
      "cell_type": "code",
      "source": [
        "x_train_splits[0].shape"
      ],
      "metadata": {
        "colab": {
          "base_uri": "https://localhost:8080/"
        },
        "id": "BOGMRxHTj1h3",
        "outputId": "f2fd986e-8db5-4c64-ee42-16df71133658"
      },
      "execution_count": null,
      "outputs": [
        {
          "output_type": "execute_result",
          "data": {
            "text/plain": [
              "(15000, 28, 28, 1)"
            ]
          },
          "metadata": {},
          "execution_count": 5
        }
      ]
    },
    {
      "cell_type": "markdown",
      "source": [
        "Model Designing"
      ],
      "metadata": {
        "id": "RS-JWLutWoGX"
      }
    },
    {
      "cell_type": "code",
      "source": [
        "def create_model():\n",
        "    model = models.Sequential(\n",
        "        [\n",
        "          layers.Conv2D(32, kernel_size=(3, 3), activation=\"relu\", input_shape=(28, 28, 1)),\n",
        "          layers.MaxPooling2D(pool_size=(2, 2)),\n",
        "          layers.Flatten(),\n",
        "          layers.Dense(128, activation=\"relu\"),\n",
        "          layers.Dropout(0.5),\n",
        "          layers.Dense(num_classes, activation=\"softmax\")\n",
        "      ]\n",
        "    )\n",
        "    return model"
      ],
      "metadata": {
        "id": "SEiHaVNfWpZv"
      },
      "execution_count": null,
      "outputs": []
    },
    {
      "cell_type": "markdown",
      "source": [
        "Creating multiple clients (models)"
      ],
      "metadata": {
        "id": "ba0oJ6m8W4cv"
      }
    },
    {
      "cell_type": "code",
      "source": [
        "model = []\n",
        "for i in range(4):\n",
        "  model.append(create_model())"
      ],
      "metadata": {
        "id": "7t92VtZaW57u"
      },
      "execution_count": null,
      "outputs": []
    },
    {
      "cell_type": "code",
      "source": [
        "model[0].summary()"
      ],
      "metadata": {
        "colab": {
          "base_uri": "https://localhost:8080/"
        },
        "id": "kMWXFbMUkwrh",
        "outputId": "380ce134-c1b0-4d34-829f-47d9190e99e9"
      },
      "execution_count": null,
      "outputs": [
        {
          "output_type": "stream",
          "name": "stdout",
          "text": [
            "Model: \"sequential\"\n",
            "_________________________________________________________________\n",
            " Layer (type)                Output Shape              Param #   \n",
            "=================================================================\n",
            " conv2d (Conv2D)             (None, 26, 26, 32)        320       \n",
            "                                                                 \n",
            " max_pooling2d (MaxPooling2  (None, 13, 13, 32)        0         \n",
            " D)                                                              \n",
            "                                                                 \n",
            " flatten (Flatten)           (None, 5408)              0         \n",
            "                                                                 \n",
            " dense (Dense)               (None, 128)               692352    \n",
            "                                                                 \n",
            " dropout (Dropout)           (None, 128)               0         \n",
            "                                                                 \n",
            " dense_1 (Dense)             (None, 10)                1290      \n",
            "                                                                 \n",
            "=================================================================\n",
            "Total params: 693962 (2.65 MB)\n",
            "Trainable params: 693962 (2.65 MB)\n",
            "Non-trainable params: 0 (0.00 Byte)\n",
            "_________________________________________________________________\n"
          ]
        }
      ]
    },
    {
      "cell_type": "markdown",
      "source": [
        "Compiling model"
      ],
      "metadata": {
        "id": "fPM6F28mXfW_"
      }
    },
    {
      "cell_type": "code",
      "source": [
        "for i in range(4):\n",
        "  model[i].compile(loss=\"categorical_crossentropy\", optimizer=\"adam\", metrics=[\"accuracy\"])"
      ],
      "metadata": {
        "id": "y3p02BHhXxWP"
      },
      "execution_count": null,
      "outputs": []
    },
    {
      "cell_type": "markdown",
      "source": [
        "Training model"
      ],
      "metadata": {
        "id": "XKgc-LbhX3LG"
      }
    },
    {
      "cell_type": "code",
      "source": [
        "batch_size = 128\n",
        "epochs = 5\n",
        "\n",
        "for i in range(4):\n",
        "    print(\"Training %s model: \" % (i))\n",
        "    model[i].fit(x_train_splits[i], y_train_splits[i], validation_data=(x_test, y_test), batch_size=batch_size, epochs=epochs)"
      ],
      "metadata": {
        "colab": {
          "base_uri": "https://localhost:8080/"
        },
        "id": "CeoTR_nLX7tf",
        "outputId": "f73d3f1c-80da-4a5e-af06-14ab2e2efbff"
      },
      "execution_count": null,
      "outputs": [
        {
          "output_type": "stream",
          "name": "stdout",
          "text": [
            "Training 0 model: \n",
            "Epoch 1/5\n",
            "118/118 [==============================] - 17s 130ms/step - loss: 0.6385 - accuracy: 0.8120 - val_loss: 0.2359 - val_accuracy: 0.9302\n",
            "Epoch 2/5\n",
            "118/118 [==============================] - 12s 98ms/step - loss: 0.2596 - accuracy: 0.9234 - val_loss: 0.1398 - val_accuracy: 0.9588\n",
            "Epoch 3/5\n",
            "118/118 [==============================] - 9s 72ms/step - loss: 0.1759 - accuracy: 0.9474 - val_loss: 0.1067 - val_accuracy: 0.9671\n",
            "Epoch 4/5\n",
            "118/118 [==============================] - 7s 57ms/step - loss: 0.1337 - accuracy: 0.9594 - val_loss: 0.0877 - val_accuracy: 0.9733\n",
            "Epoch 5/5\n",
            "118/118 [==============================] - 8s 71ms/step - loss: 0.1070 - accuracy: 0.9672 - val_loss: 0.0764 - val_accuracy: 0.9753\n",
            "Training 1 model: \n",
            "Epoch 1/5\n",
            "118/118 [==============================] - 9s 73ms/step - loss: 0.6382 - accuracy: 0.8089 - val_loss: 0.2282 - val_accuracy: 0.9339\n",
            "Epoch 2/5\n",
            "118/118 [==============================] - 7s 61ms/step - loss: 0.2591 - accuracy: 0.9248 - val_loss: 0.1485 - val_accuracy: 0.9542\n",
            "Epoch 3/5\n",
            "118/118 [==============================] - 8s 64ms/step - loss: 0.1783 - accuracy: 0.9478 - val_loss: 0.1116 - val_accuracy: 0.9660\n",
            "Epoch 4/5\n",
            "118/118 [==============================] - 8s 69ms/step - loss: 0.1354 - accuracy: 0.9601 - val_loss: 0.0907 - val_accuracy: 0.9719\n",
            "Epoch 5/5\n",
            "118/118 [==============================] - 7s 58ms/step - loss: 0.1090 - accuracy: 0.9667 - val_loss: 0.0793 - val_accuracy: 0.9752\n",
            "Training 2 model: \n",
            "Epoch 1/5\n",
            "118/118 [==============================] - 10s 79ms/step - loss: 0.6323 - accuracy: 0.8072 - val_loss: 0.2295 - val_accuracy: 0.9339\n",
            "Epoch 2/5\n",
            "118/118 [==============================] - 8s 69ms/step - loss: 0.2740 - accuracy: 0.9169 - val_loss: 0.1611 - val_accuracy: 0.9530\n",
            "Epoch 3/5\n",
            "118/118 [==============================] - 7s 58ms/step - loss: 0.1919 - accuracy: 0.9455 - val_loss: 0.1260 - val_accuracy: 0.9635\n",
            "Epoch 4/5\n",
            "118/118 [==============================] - 8s 71ms/step - loss: 0.1459 - accuracy: 0.9552 - val_loss: 0.0973 - val_accuracy: 0.9713\n",
            "Epoch 5/5\n",
            "118/118 [==============================] - 7s 55ms/step - loss: 0.1192 - accuracy: 0.9645 - val_loss: 0.0879 - val_accuracy: 0.9721\n",
            "Training 3 model: \n",
            "Epoch 1/5\n",
            "118/118 [==============================] - 8s 62ms/step - loss: 0.6333 - accuracy: 0.8103 - val_loss: 0.2365 - val_accuracy: 0.9319\n",
            "Epoch 2/5\n",
            "118/118 [==============================] - 8s 69ms/step - loss: 0.2799 - accuracy: 0.9170 - val_loss: 0.1582 - val_accuracy: 0.9531\n",
            "Epoch 3/5\n",
            "118/118 [==============================] - 7s 57ms/step - loss: 0.2005 - accuracy: 0.9430 - val_loss: 0.1205 - val_accuracy: 0.9632\n",
            "Epoch 4/5\n",
            "118/118 [==============================] - 8s 70ms/step - loss: 0.1579 - accuracy: 0.9555 - val_loss: 0.1041 - val_accuracy: 0.9684\n",
            "Epoch 5/5\n",
            "118/118 [==============================] - 7s 58ms/step - loss: 0.1228 - accuracy: 0.9644 - val_loss: 0.0931 - val_accuracy: 0.9724\n"
          ]
        }
      ]
    },
    {
      "cell_type": "markdown",
      "source": [
        "Model evaluation on test data"
      ],
      "metadata": {
        "id": "DCt03-0YYCf4"
      }
    },
    {
      "cell_type": "code",
      "source": [
        "score = model[0].evaluate(x_test, y_test, verbose=0)\n",
        "print(\"Test loss: \", score[0])\n",
        "print(\"Test accuracy: \", score[1])"
      ],
      "metadata": {
        "colab": {
          "base_uri": "https://localhost:8080/"
        },
        "id": "iGubT78KYIRh",
        "outputId": "e869421b-63d6-4d13-e1f9-48b802930924"
      },
      "execution_count": null,
      "outputs": [
        {
          "output_type": "stream",
          "name": "stdout",
          "text": [
            "Test loss:  0.07644601166248322\n",
            "Test accuracy:  0.9753000140190125\n"
          ]
        }
      ]
    },
    {
      "cell_type": "markdown",
      "source": [
        "Taking aggregation"
      ],
      "metadata": {
        "id": "IxOsVdFCYNEC"
      }
    },
    {
      "cell_type": "code",
      "source": [
        "predictions = []\n",
        "\n",
        "for i in range(4):\n",
        "  predictions.append(model[i].predict(x_test))"
      ],
      "metadata": {
        "colab": {
          "base_uri": "https://localhost:8080/"
        },
        "id": "QHdwu4zwYR-l",
        "outputId": "f017f6c7-ee0b-4c99-8ad2-4c82fd7ea664"
      },
      "execution_count": null,
      "outputs": [
        {
          "output_type": "stream",
          "name": "stdout",
          "text": [
            "313/313 [==============================] - 2s 5ms/step\n",
            "313/313 [==============================] - 2s 5ms/step\n",
            "313/313 [==============================] - 2s 5ms/step\n",
            "313/313 [==============================] - 2s 5ms/step\n"
          ]
        }
      ]
    },
    {
      "cell_type": "markdown",
      "source": [
        "Getting weights for each model"
      ],
      "metadata": {
        "id": "eq_WJiLlYiWh"
      }
    },
    {
      "cell_type": "code",
      "source": [
        "w0 = model[0].get_weights()\n",
        "w1 = model[1].get_weights()\n",
        "w2 = model[2].get_weights()\n",
        "w3 = model[3].get_weights()"
      ],
      "metadata": {
        "id": "_f71-FqOYjoE"
      },
      "execution_count": null,
      "outputs": []
    },
    {
      "cell_type": "code",
      "source": [
        "pairwise_dist = np.vstack((w0, w1, w2, w3))"
      ],
      "metadata": {
        "colab": {
          "base_uri": "https://localhost:8080/"
        },
        "id": "gceWXXxQne-2",
        "outputId": "34170c59-01a8-4c5a-bb99-43dbfa63a8cc"
      },
      "execution_count": null,
      "outputs": [
        {
          "output_type": "stream",
          "name": "stderr",
          "text": [
            "/usr/local/lib/python3.10/dist-packages/numpy/core/shape_base.py:121: VisibleDeprecationWarning: Creating an ndarray from ragged nested sequences (which is a list-or-tuple of lists-or-tuples-or ndarrays with different lengths or shapes) is deprecated. If you meant to do this, you must specify 'dtype=object' when creating the ndarray.\n",
            "  ary = asanyarray(ary)\n"
          ]
        }
      ]
    },
    {
      "cell_type": "markdown",
      "source": [
        "Taking average"
      ],
      "metadata": {
        "id": "ECg2Ig65YoNp"
      }
    },
    {
      "cell_type": "code",
      "source": [
        "avg_weights = np.average(pairwise_dist, axis=0)\n",
        "avg_weights[0].shape"
      ],
      "metadata": {
        "colab": {
          "base_uri": "https://localhost:8080/"
        },
        "id": "c3Emcdu6Yt3R",
        "outputId": "b6aa93a1-4d3b-43e2-9e67-6bd37d1ce13e"
      },
      "execution_count": null,
      "outputs": [
        {
          "output_type": "execute_result",
          "data": {
            "text/plain": [
              "(3, 3, 1, 32)"
            ]
          },
          "metadata": {},
          "execution_count": 15
        }
      ]
    },
    {
      "cell_type": "code",
      "source": [
        "plt.imshow(x_train[50145])"
      ],
      "metadata": {
        "colab": {
          "base_uri": "https://localhost:8080/",
          "height": 447
        },
        "id": "PPhZi0v0LRe7",
        "outputId": "a929c31d-3903-483e-9e43-bcd005d84c8e"
      },
      "execution_count": null,
      "outputs": [
        {
          "output_type": "execute_result",
          "data": {
            "text/plain": [
              "<matplotlib.image.AxesImage at 0x7bf7e4408a00>"
            ]
          },
          "metadata": {},
          "execution_count": 17
        },
        {
          "output_type": "display_data",
          "data": {
            "text/plain": [
              "<Figure size 640x480 with 1 Axes>"
            ],
            "image/png": "[encoded data removed]"
          },
          "metadata": {}
        }
      ]
    }
  ]
}